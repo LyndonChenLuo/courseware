{
 "cells": [
  {
   "cell_type": "markdown",
   "id": "79e53f58",
   "metadata": {},
   "source": [
    "> “清新学习小组” 2022 年第一次分享\n",
    ">\n",
    "> 3月18日 19:00--21:00\n",
    ">\n",
    "> By __罗 晨__ (Email: luoc18@mails.tsinghua.edu.cn  如有与本次学习相关的问题欢迎投我)\n",
    ">\n",
    "# 学习任务\n",
    "- 🚩 1. 中文文本挖掘介绍、预处理流程\n",
    "\n",
    "\n",
    "- 🚩 2. 语义网络分析（语义矩阵构建、语义网络可视化、语义子群识别）\n",
    "\n",
    "\n",
    "- ⚠️ 声明：__课件仅供学习小组内部参考，小部分数据受到分享者与数据提供方签订的数据使用协议约束，禁止外传！__"
   ]
  },
  {
   "cell_type": "markdown",
   "id": "148a7611",
   "metadata": {},
   "source": [
    "# 1⃣️ 中文文本挖掘介绍"
   ]
  },
  {
   "cell_type": "markdown",
   "id": "56bf36cd",
   "metadata": {},
   "source": [
    "- 推荐一个微信公众号：`Social Listening与文本挖掘`\n",
    "\n",
    "\n",
    "- IBM: [Text Mining](https://www.ibm.com/cloud/learn/text-mining)\n",
    "\n",
    "\n",
    "- _IJoC_: [Computational communication science: A methodological catalyzer for a maturing discipline](https://ijoc.org/index.php/ijoc/article/view/10675)\n",
    "\n",
    "\n",
    "- 推荐一位学者：\n",
    "  \n",
    "  [George Barnett - Google Scholar](https://scholar.google.com/citations?user=0Ygd8foAAAAJ&hl=en&oi=ao)    \n",
    "  [George Barnett - Official Profile](https://communication.ucdavis.edu/people/gbarnett)\n",
    "\n",
    "\n",
    "- 语义网络分析\n",
    "    - 适合用来讲故事（storytelling） e.g., [Study 1 in _SSCR_](https://doi.org/10.1177/08944393211012267)\n",
    "    - 适合用来开展比较研究 e.g., [Study 2 in _JoIIC_](https://doi.org/10.1080/17513050902759488)、过程性研究 e.g., 《共同体的凝聚、分化和退场：建国以来官方救灾话语的共现结构之演变（1949-2017）》 in 《新闻与传播研究》\n",
    "    - 适合结合的理论：[社会表征理论 (Social Representation(s) Theory)](https://www.ecologyandsociety.org/vol19/iss3/art19/#:~:text=Social%20representations%20theory%20is%20a,(Markov%C3%A1%202008%3A483).)\n",
    "    - __不适合__用来作为一项研究的独立支撑方法，除非你的研究问题非常有趣\n",
    "    - __不适合__用于验证性研究\n",
    "    - __不适合__与其他研究方法进行交叉验证"
   ]
  },
  {
   "cell_type": "markdown",
   "id": "94d3ed93",
   "metadata": {},
   "source": [
    "# 2⃣️ 数据抽样\n",
    "\n",
    "- 数据来自开源数据集 [Weibo-Public-Opinion-Datasets](https://github.com/nghuyong/weibo-public-opinion-datasets)\n",
    "\n",
    "\n",
    "- 以下代码无需听课者执行，只是为了展示数据的获取过程"
   ]
  },
  {
   "cell_type": "code",
   "execution_count": 3,
   "id": "4e4f58bf",
   "metadata": {},
   "outputs": [],
   "source": [
    "# 导入包，是常用的数据分析三剑客（NumPy, SciPy, Pandas）之一的Pandas\n",
    "import pandas as pd\n",
    "\n",
    "# 进行基础设置\n",
    "pd.set_option(\"max_columns\", 100)\n",
    "# 可以通过? + 函数名称的方式来查阅帮助\n",
    "?pd.set_option"
   ]
  },
  {
   "cell_type": "code",
   "execution_count": 4,
   "id": "6e1d50aa",
   "metadata": {
    "scrolled": true
   },
   "outputs": [
    {
     "data": {
      "text/html": [
       "<div>\n",
       "<style scoped>\n",
       "    .dataframe tbody tr th:only-of-type {\n",
       "        vertical-align: middle;\n",
       "    }\n",
       "\n",
       "    .dataframe tbody tr th {\n",
       "        vertical-align: top;\n",
       "    }\n",
       "\n",
       "    .dataframe thead th {\n",
       "        text-align: right;\n",
       "    }\n",
       "</style>\n",
       "<table border=\"1\" class=\"dataframe\">\n",
       "  <thead>\n",
       "    <tr style=\"text-align: right;\">\n",
       "      <th></th>\n",
       "      <th>_id</th>\n",
       "      <th>user_id</th>\n",
       "      <th>crawl_time_x</th>\n",
       "      <th>created_at</th>\n",
       "      <th>like_num</th>\n",
       "      <th>repost_num</th>\n",
       "      <th>comment_num</th>\n",
       "      <th>content</th>\n",
       "      <th>origin_weibo</th>\n",
       "      <th>geo_info</th>\n",
       "      <th>date</th>\n",
       "      <th>time_</th>\n",
       "      <th>true_id</th>\n",
       "      <th>authentication</th>\n",
       "      <th>birthday</th>\n",
       "      <th>brief_introduction</th>\n",
       "      <th>city</th>\n",
       "      <th>crawl_time_y</th>\n",
       "      <th>fans_num</th>\n",
       "      <th>follows_num</th>\n",
       "      <th>gender</th>\n",
       "      <th>labels</th>\n",
       "      <th>nick_name</th>\n",
       "      <th>province</th>\n",
       "      <th>sentiment</th>\n",
       "      <th>sex_orientation</th>\n",
       "      <th>tweets_num</th>\n",
       "      <th>vip_level</th>\n",
       "      <th>user_homepage_1</th>\n",
       "      <th>crawl_user</th>\n",
       "      <th>tokens</th>\n",
       "    </tr>\n",
       "  </thead>\n",
       "  <tbody>\n",
       "    <tr>\n",
       "      <th>318</th>\n",
       "      <td>Iqk5thCjC</td>\n",
       "      <td>c39d382d48694cfe</td>\n",
       "      <td>1590606516</td>\n",
       "      <td>2020-01-20 09:16</td>\n",
       "      <td>1</td>\n",
       "      <td>0</td>\n",
       "      <td>0</td>\n",
       "      <td>#武汉新增新型肺炎136例#外地人觉得武汉很可怕，但是水深火热的武汉人却觉得平平安安大武汉，...</td>\n",
       "      <td>NaN</td>\n",
       "      <td>NaN</td>\n",
       "      <td>2020-01-20</td>\n",
       "      <td>09:16</td>\n",
       "      <td>5242854712</td>\n",
       "      <td>NaN</td>\n",
       "      <td>NaN</td>\n",
       "      <td>宇宙之大</td>\n",
       "      <td>NaN</td>\n",
       "      <td>1576244687</td>\n",
       "      <td>261.0</td>\n",
       "      <td>140.0</td>\n",
       "      <td>女</td>\n",
       "      <td>NaN</td>\n",
       "      <td>一勺子盐啊</td>\n",
       "      <td>湖北</td>\n",
       "      <td>NaN</td>\n",
       "      <td>NaN</td>\n",
       "      <td>885.0</td>\n",
       "      <td>未开通</td>\n",
       "      <td>5242854712</td>\n",
       "      <td>普通用户</td>\n",
       "      <td>武汉 新增 新型肺炎 外地人 武汉 可怕 水深火热 武汉 平平安安 武汉 民风 淳朴 华南区</td>\n",
       "    </tr>\n",
       "    <tr>\n",
       "      <th>319</th>\n",
       "      <td>Iqk5JwMHe</td>\n",
       "      <td>15a08b7a05239c6b</td>\n",
       "      <td>1590244226</td>\n",
       "      <td>2020-01-20 09:17</td>\n",
       "      <td>0</td>\n",
       "      <td>0</td>\n",
       "      <td>0</td>\n",
       "      <td>看得我热泪盈眶，[求关注]武汉新增新型肺炎136例一个有着炽热心肠的男人！！  奇趣视频红人...</td>\n",
       "      <td>NaN</td>\n",
       "      <td>NaN</td>\n",
       "      <td>2020-01-20</td>\n",
       "      <td>09:17</td>\n",
       "      <td>2661041520</td>\n",
       "      <td>NaN</td>\n",
       "      <td>0001-00-00</td>\n",
       "      <td>爱在哪里家就在哪里</td>\n",
       "      <td>美国</td>\n",
       "      <td>1580954192</td>\n",
       "      <td>86.0</td>\n",
       "      <td>216.0</td>\n",
       "      <td>女</td>\n",
       "      <td>NaN</td>\n",
       "      <td>桃桃飘飘</td>\n",
       "      <td>海外</td>\n",
       "      <td>NaN</td>\n",
       "      <td>NaN</td>\n",
       "      <td>363.0</td>\n",
       "      <td>未开通</td>\n",
       "      <td>2661041520</td>\n",
       "      <td>普通用户</td>\n",
       "      <td>看得 热泪盈眶 关注 武汉 新增 新型肺炎 炽热 心肠 男人 奇趣 视频 红人 诞生</td>\n",
       "    </tr>\n",
       "    <tr>\n",
       "      <th>320</th>\n",
       "      <td>Iqk5Qkzou</td>\n",
       "      <td>8c7d0b0ff1166420</td>\n",
       "      <td>1590658877</td>\n",
       "      <td>2020-01-20 09:17</td>\n",
       "      <td>0</td>\n",
       "      <td>0</td>\n",
       "      <td>0</td>\n",
       "      <td>分享网易新闻《广东现首例新型肺炎确诊病例 12月底曾赴武汉探亲》广东现首例新型肺炎确诊病例 ...</td>\n",
       "      <td>NaN</td>\n",
       "      <td>NaN</td>\n",
       "      <td>2020-01-20</td>\n",
       "      <td>09:17</td>\n",
       "      <td>1900066131</td>\n",
       "      <td>NaN</td>\n",
       "      <td>1980-04-15</td>\n",
       "      <td>恶形恶相，难成大器，一事无成</td>\n",
       "      <td>广州</td>\n",
       "      <td>1576037131</td>\n",
       "      <td>312.0</td>\n",
       "      <td>474.0</td>\n",
       "      <td>男</td>\n",
       "      <td>IT数码,广州生活,宅男</td>\n",
       "      <td>Yy思乐</td>\n",
       "      <td>广东</td>\n",
       "      <td>NaN</td>\n",
       "      <td>NaN</td>\n",
       "      <td>1862.0</td>\n",
       "      <td>未开通</td>\n",
       "      <td>1900066131</td>\n",
       "      <td>普通用户</td>\n",
       "      <td>分享 网易 新闻 广东 首例 新型肺炎 确诊病例 月底 武汉 探亲 广东 首例 新型肺炎 确...</td>\n",
       "    </tr>\n",
       "  </tbody>\n",
       "</table>\n",
       "</div>"
      ],
      "text/plain": [
       "           _id           user_id  crawl_time_x        created_at  like_num  \\\n",
       "318  Iqk5thCjC  c39d382d48694cfe    1590606516  2020-01-20 09:16         1   \n",
       "319  Iqk5JwMHe  15a08b7a05239c6b    1590244226  2020-01-20 09:17         0   \n",
       "320  Iqk5Qkzou  8c7d0b0ff1166420    1590658877  2020-01-20 09:17         0   \n",
       "\n",
       "     repost_num  comment_num  \\\n",
       "318           0            0   \n",
       "319           0            0   \n",
       "320           0            0   \n",
       "\n",
       "                                               content  origin_weibo geo_info  \\\n",
       "318  #武汉新增新型肺炎136例#外地人觉得武汉很可怕，但是水深火热的武汉人却觉得平平安安大武汉，...           NaN      NaN   \n",
       "319  看得我热泪盈眶，[求关注]武汉新增新型肺炎136例一个有着炽热心肠的男人！！  奇趣视频红人...           NaN      NaN   \n",
       "320  分享网易新闻《广东现首例新型肺炎确诊病例 12月底曾赴武汉探亲》广东现首例新型肺炎确诊病例 ...           NaN      NaN   \n",
       "\n",
       "           date  time_     true_id authentication    birthday  \\\n",
       "318  2020-01-20  09:16  5242854712            NaN         NaN   \n",
       "319  2020-01-20  09:17  2661041520            NaN  0001-00-00   \n",
       "320  2020-01-20  09:17  1900066131            NaN  1980-04-15   \n",
       "\n",
       "    brief_introduction city  crawl_time_y  fans_num  follows_num gender  \\\n",
       "318               宇宙之大  NaN    1576244687     261.0        140.0      女   \n",
       "319          爱在哪里家就在哪里   美国    1580954192      86.0        216.0      女   \n",
       "320     恶形恶相，难成大器，一事无成   广州    1576037131     312.0        474.0      男   \n",
       "\n",
       "           labels nick_name province sentiment sex_orientation  tweets_num  \\\n",
       "318           NaN     一勺子盐啊       湖北       NaN             NaN       885.0   \n",
       "319           NaN      桃桃飘飘       海外       NaN             NaN       363.0   \n",
       "320  IT数码,广州生活,宅男      Yy思乐       广东       NaN             NaN      1862.0   \n",
       "\n",
       "    vip_level  user_homepage_1 crawl_user  \\\n",
       "318       未开通       5242854712       普通用户   \n",
       "319       未开通       2661041520       普通用户   \n",
       "320       未开通       1900066131       普通用户   \n",
       "\n",
       "                                                tokens  \n",
       "318     武汉 新增 新型肺炎 外地人 武汉 可怕 水深火热 武汉 平平安安 武汉 民风 淳朴 华南区  \n",
       "319         看得 热泪盈眶 关注 武汉 新增 新型肺炎 炽热 心肠 男人 奇趣 视频 红人 诞生  \n",
       "320  分享 网易 新闻 广东 首例 新型肺炎 确诊病例 月底 武汉 探亲 广东 首例 新型肺炎 确...  "
      ]
     },
     "execution_count": 4,
     "metadata": {},
     "output_type": "execute_result"
    }
   ],
   "source": [
    "# 导入数据，原始数据体量庞大，不予分享\n",
    "meta_data = pd.read_csv(\"/Users/lyndon/Desktop/新数据/Round6/meta_data_1.csv\", \n",
    "                        header=0, \n",
    "                        index_col=False)\n",
    "meta_data.iloc[318: 321, :]"
   ]
  },
  {
   "cell_type": "code",
   "execution_count": 5,
   "id": "b4b3c4e8",
   "metadata": {},
   "outputs": [
    {
     "data": {
      "text/plain": [
       "(1128303, 31)"
      ]
     },
     "execution_count": 5,
     "metadata": {},
     "output_type": "execute_result"
    }
   ],
   "source": [
    "# 查看数据维数\n",
    "meta_data.shape"
   ]
  },
  {
   "cell_type": "code",
   "execution_count": 6,
   "id": "f485d093",
   "metadata": {},
   "outputs": [
    {
     "data": {
      "text/plain": [
       "(1128303, 31)"
      ]
     },
     "execution_count": 6,
     "metadata": {},
     "output_type": "execute_result"
    }
   ],
   "source": [
    "# 检查是否有内容为空的记录\n",
    "meta_data[meta_data[\"content\"].apply(lambda x: len(str(x).strip())) > 1].shape"
   ]
  },
  {
   "cell_type": "code",
   "execution_count": 7,
   "id": "3eb511cf",
   "metadata": {},
   "outputs": [
    {
     "data": {
      "text/plain": [
       "普通用户    845691\n",
       "认证个人    152949\n",
       "普通机构     55263\n",
       "行政机构     40841\n",
       "媒体       23622\n",
       "专业群体      9937\n",
       "Name: crawl_user, dtype: int64"
      ]
     },
     "execution_count": 7,
     "metadata": {},
     "output_type": "execute_result"
    }
   ],
   "source": [
    "# 检查数据中的发布者所属群体分布情况\n",
    "meta_data.crawl_user.value_counts()"
   ]
  },
  {
   "cell_type": "code",
   "execution_count": 8,
   "id": "dd6e88f0",
   "metadata": {},
   "outputs": [],
   "source": [
    "# 从普通用户、认证个人两个群体发布的微博中各随机抽取1000条微博，作为本次分享活动的待分析语料\n",
    "# 这一份抽样后的语料也是共享的语料\n",
    "# with open(\"./common_user.txt\", \"w\", encoding=\"utf-8\") as t1:\n",
    "#     for line in meta_data[meta_data[\"crawl_user\"] == \"普通用户\"][\"content\"].sample(n=1000):\n",
    "#         t1.write(line.strip() + \"\\n\")\n",
    "\n",
    "# with open(\"./elite_user.txt\", \"w\", encoding=\"utf-8\") as t2:\n",
    "#     for line in meta_data[meta_data[\"crawl_user\"] == \"认证个人\"][\"content\"].sample(n=1000):\n",
    "#         t2.write(line.strip() + \"\\n\")"
   ]
  },
  {
   "cell_type": "markdown",
   "id": "b15f46f6",
   "metadata": {},
   "source": [
    "# 3⃣️ 预处理\n",
    "\n",
    "- 文本预处理流程（全）\n",
    "\n",
    "    [Applying LDA topic modeling in communication research: Toward a valid and reliable methodology published in _Communication Methods and Measures_](https://doi.org/10.1080/19312458.2018.1430754)"
   ]
  },
  {
   "cell_type": "code",
   "execution_count": 9,
   "id": "490e6d12",
   "metadata": {},
   "outputs": [
    {
     "name": "stdout",
     "output_type": "stream",
     "text": [
      "Requirement already satisfied: opencc-python-reimplemented in /opt/anaconda3/lib/python3.8/site-packages (0.1.6)\r\n"
     ]
    }
   ],
   "source": [
    "# 安装opencc，opencc主要用于执行繁简体转换\n",
    "!pip install opencc-python-reimplemented"
   ]
  },
  {
   "cell_type": "markdown",
   "id": "4be2fa58",
   "metadata": {},
   "source": [
    "- 使用到的中文分词组件：[jieba](https://github.com/fxsjy/jieba)"
   ]
  },
  {
   "cell_type": "code",
   "execution_count": 10,
   "id": "eacdeeff",
   "metadata": {},
   "outputs": [],
   "source": [
    "# 导入本部分需要使用的包\n",
    "import os\n",
    "import re\n",
    "# 中文分词常用包：jieba\n",
    "import jieba\n",
    "# 可以进行词性提取的 jieba.posseg\n",
    "import jieba.posseg as pseg\n",
    "from opencc import OpenCC"
   ]
  },
  {
   "cell_type": "markdown",
   "id": "ab0a2ca0",
   "metadata": {},
   "source": [
    "- [中文常用停用词表](https://github.com/goto456/stopwords)"
   ]
  },
  {
   "cell_type": "code",
   "execution_count": 11,
   "id": "b6a0a195",
   "metadata": {},
   "outputs": [
    {
     "name": "stdout",
     "output_type": "stream",
     "text": [
      "3885\n"
     ]
    }
   ],
   "source": [
    "# 建构停用词表\n",
    "# baidu: 1396 words, cn: 746 words, hit: 767 words, scu: 976 words\n",
    "stopwords = list()\n",
    "for file in os.listdir(\"./stopwords_common/\"):\n",
    "    if \".DS_\" not in file:\n",
    "        with open(\"./stopwords_common/\" + file, \"r\", encoding=\"utf-8\") as f:\n",
    "            for line in f.readlines():\n",
    "                stopwords.append(line.strip())\n",
    "print(len(stopwords))"
   ]
  },
  {
   "cell_type": "code",
   "execution_count": 12,
   "id": "f06b1701",
   "metadata": {},
   "outputs": [
    {
     "name": "stdout",
     "output_type": "stream",
     "text": [
      "2313\n"
     ]
    }
   ],
   "source": [
    "# 对停用词表进行去重\n",
    "stopwords = list(set(stopwords))\n",
    "print(len(stopwords))"
   ]
  },
  {
   "cell_type": "code",
   "execution_count": 13,
   "id": "70bae8fb",
   "metadata": {},
   "outputs": [
    {
     "name": "stdout",
     "output_type": "stream",
     "text": [
      "613\n"
     ]
    }
   ],
   "source": [
    "# 建构自定义词表\n",
    "userdict = list()\n",
    "with open(\"./userdict.txt\", \"r\", encoding=\"utf-8\") as f:\n",
    "    for line in f.readlines():\n",
    "        userdict.append(line.strip())\n",
    "print(len(userdict))"
   ]
  },
  {
   "cell_type": "code",
   "execution_count": 14,
   "id": "27163d4a",
   "metadata": {},
   "outputs": [
    {
     "name": "stdout",
     "output_type": "stream",
     "text": [
      "384\n"
     ]
    }
   ],
   "source": [
    "# 对自定义词表进行去重\n",
    "userdict = list(set(userdict))\n",
    "print(len(userdict))\n",
    "with open(\"./userdict_new.txt\", \"w\", encoding=\"utf-8\") as t:\n",
    "    for word in userdict:\n",
    "        t.write(word + \" n\" + \"\\n\")"
   ]
  },
  {
   "cell_type": "code",
   "execution_count": 15,
   "id": "23e8f164",
   "metadata": {},
   "outputs": [
    {
     "name": "stderr",
     "output_type": "stream",
     "text": [
      "Building prefix dict from the default dictionary ...\n",
      "Loading model from cache /var/folders/hj/mf8vnhhj55b4w8lynj6zqfb40000gn/T/jieba.cache\n",
      "Loading model cost 0.676 seconds.\n",
      "Prefix dict has been built successfully.\n"
     ]
    }
   ],
   "source": [
    "# 引入自定义词表，需要注意：使用jieba自带的并行分词模式（enable_parallel）时，自定义词表会失效\n",
    "jieba.load_userdict(\"./userdict_new.txt\")"
   ]
  },
  {
   "cell_type": "markdown",
   "id": "68f4b08f",
   "metadata": {},
   "source": [
    "- [jieba中的词性释义（与ICTCLAS兼容）](https://gist.github.com/luw2007/6016931)\n",
    "\n",
    "\n",
    "- 推荐工具：[在线正则表达式验证](https://regex101.com/)"
   ]
  },
  {
   "cell_type": "code",
   "execution_count": 16,
   "id": "43c23f12",
   "metadata": {},
   "outputs": [],
   "source": [
    "# 设定正则表达式\n",
    "pattern_CN = re.compile(r\"[\\u4e00-\\u9fa5]\")\n",
    "pattern_init = re.compile(r\"^[n|v|a]\")"
   ]
  },
  {
   "cell_type": "code",
   "execution_count": 17,
   "id": "0ca0080e",
   "metadata": {},
   "outputs": [
    {
     "name": "stdout",
     "output_type": "stream",
     "text": [
      "清华大学 nt\n",
      "清新 a\n",
      "学习 v\n",
      "小组 n\n"
     ]
    }
   ],
   "source": [
    "# demo\n",
    "for word, flag in pseg.cut(\"清华大学清新学习小组\"):\n",
    "    print(word, flag)"
   ]
  },
  {
   "cell_type": "code",
   "execution_count": 18,
   "id": "d5104309",
   "metadata": {},
   "outputs": [],
   "source": [
    "# 定义分词函数\n",
    "def tokenize(text):\n",
    "    kept_words = list()\n",
    "    # 繁简体转换\n",
    "    for word, flag in pseg.cut(OpenCC(\"t2s\").convert(str(text).strip())):\n",
    "        # 过滤停用词、单词、非中文，进行词性提取\n",
    "        if (word not in stopwords) and \\\n",
    "        (len(word) > 1) and \\\n",
    "        (pattern_CN.search(word) != None) and \\\n",
    "        (pattern_init.search(flag) != None):\n",
    "            kept_words.append(word)\n",
    "    return \" \".join(kept_words)"
   ]
  },
  {
   "cell_type": "markdown",
   "id": "b8f1df34",
   "metadata": {},
   "source": [
    "- 正式分词"
   ]
  },
  {
   "cell_type": "code",
   "execution_count": 19,
   "id": "1159d946",
   "metadata": {},
   "outputs": [
    {
     "data": {
      "text/html": [
       "<div>\n",
       "<style scoped>\n",
       "    .dataframe tbody tr th:only-of-type {\n",
       "        vertical-align: middle;\n",
       "    }\n",
       "\n",
       "    .dataframe tbody tr th {\n",
       "        vertical-align: top;\n",
       "    }\n",
       "\n",
       "    .dataframe thead th {\n",
       "        text-align: right;\n",
       "    }\n",
       "</style>\n",
       "<table border=\"1\" class=\"dataframe\">\n",
       "  <thead>\n",
       "    <tr style=\"text-align: right;\">\n",
       "      <th></th>\n",
       "      <th>0</th>\n",
       "    </tr>\n",
       "  </thead>\n",
       "  <tbody>\n",
       "    <tr>\n",
       "      <th>0</th>\n",
       "      <td>北京公布2月18日新发新冠肺炎确诊病例活动过的小区或场所 http://t.cn/A6h0lufr</td>\n",
       "    </tr>\n",
       "    <tr>\n",
       "      <th>1</th>\n",
       "      <td>#全国性哀悼活动# [蜡烛]有些人的挚爱却永远留在了这个冬天。深切哀悼抗击新冠肺炎疫情斗争牺...</td>\n",
       "    </tr>\n",
       "    <tr>\n",
       "      <th>2</th>\n",
       "      <td>清明时节心情凝，探望长空思绪浓。忧怀自古英烈魂，更为新冠泪湿巾。天灾人祸举国哀，十亿龙人泪满...</td>\n",
       "    </tr>\n",
       "    <tr>\n",
       "      <th>3</th>\n",
       "      <td>截至4月26日18时，全球新冠肺炎疫情形势</td>\n",
       "    </tr>\n",
       "    <tr>\n",
       "      <th>4</th>\n",
       "      <td>#唐山确诊首例新型肺炎病例#坐标河北省唐山市迁安市沙河驿镇红庙子村，我们村开始给家家户户消毒...</td>\n",
       "    </tr>\n",
       "  </tbody>\n",
       "</table>\n",
       "</div>"
      ],
      "text/plain": [
       "                                                   0\n",
       "0  北京公布2月18日新发新冠肺炎确诊病例活动过的小区或场所 http://t.cn/A6h0lufr\n",
       "1  #全国性哀悼活动# [蜡烛]有些人的挚爱却永远留在了这个冬天。深切哀悼抗击新冠肺炎疫情斗争牺...\n",
       "2  清明时节心情凝，探望长空思绪浓。忧怀自古英烈魂，更为新冠泪湿巾。天灾人祸举国哀，十亿龙人泪满...\n",
       "3                              截至4月26日18时，全球新冠肺炎疫情形势\n",
       "4  #唐山确诊首例新型肺炎病例#坐标河北省唐山市迁安市沙河驿镇红庙子村，我们村开始给家家户户消毒..."
      ]
     },
     "execution_count": 19,
     "metadata": {},
     "output_type": "execute_result"
    }
   ],
   "source": [
    "common_user = pd.read_csv(\"./common_user.txt\", header=None, index_col=None, sep=\"\\n\")\n",
    "common_user.head()"
   ]
  },
  {
   "cell_type": "code",
   "execution_count": 20,
   "id": "4014697e",
   "metadata": {},
   "outputs": [
    {
     "data": {
      "text/plain": [
       "(1000, 1)"
      ]
     },
     "execution_count": 20,
     "metadata": {},
     "output_type": "execute_result"
    }
   ],
   "source": [
    "common_user.shape"
   ]
  },
  {
   "cell_type": "code",
   "execution_count": 21,
   "id": "d03ffb18",
   "metadata": {},
   "outputs": [
    {
     "data": {
      "text/html": [
       "<div>\n",
       "<style scoped>\n",
       "    .dataframe tbody tr th:only-of-type {\n",
       "        vertical-align: middle;\n",
       "    }\n",
       "\n",
       "    .dataframe tbody tr th {\n",
       "        vertical-align: top;\n",
       "    }\n",
       "\n",
       "    .dataframe thead th {\n",
       "        text-align: right;\n",
       "    }\n",
       "</style>\n",
       "<table border=\"1\" class=\"dataframe\">\n",
       "  <thead>\n",
       "    <tr style=\"text-align: right;\">\n",
       "      <th></th>\n",
       "      <th>content</th>\n",
       "    </tr>\n",
       "  </thead>\n",
       "  <tbody>\n",
       "    <tr>\n",
       "      <th>0</th>\n",
       "      <td>北京公布2月18日新发新冠肺炎确诊病例活动过的小区或场所 http://t.cn/A6h0lufr</td>\n",
       "    </tr>\n",
       "    <tr>\n",
       "      <th>1</th>\n",
       "      <td>#全国性哀悼活动# [蜡烛]有些人的挚爱却永远留在了这个冬天。深切哀悼抗击新冠肺炎疫情斗争牺...</td>\n",
       "    </tr>\n",
       "    <tr>\n",
       "      <th>2</th>\n",
       "      <td>清明时节心情凝，探望长空思绪浓。忧怀自古英烈魂，更为新冠泪湿巾。天灾人祸举国哀，十亿龙人泪满...</td>\n",
       "    </tr>\n",
       "    <tr>\n",
       "      <th>3</th>\n",
       "      <td>截至4月26日18时，全球新冠肺炎疫情形势</td>\n",
       "    </tr>\n",
       "    <tr>\n",
       "      <th>4</th>\n",
       "      <td>#唐山确诊首例新型肺炎病例#坐标河北省唐山市迁安市沙河驿镇红庙子村，我们村开始给家家户户消毒...</td>\n",
       "    </tr>\n",
       "  </tbody>\n",
       "</table>\n",
       "</div>"
      ],
      "text/plain": [
       "                                             content\n",
       "0  北京公布2月18日新发新冠肺炎确诊病例活动过的小区或场所 http://t.cn/A6h0lufr\n",
       "1  #全国性哀悼活动# [蜡烛]有些人的挚爱却永远留在了这个冬天。深切哀悼抗击新冠肺炎疫情斗争牺...\n",
       "2  清明时节心情凝，探望长空思绪浓。忧怀自古英烈魂，更为新冠泪湿巾。天灾人祸举国哀，十亿龙人泪满...\n",
       "3                              截至4月26日18时，全球新冠肺炎疫情形势\n",
       "4  #唐山确诊首例新型肺炎病例#坐标河北省唐山市迁安市沙河驿镇红庙子村，我们村开始给家家户户消毒..."
      ]
     },
     "execution_count": 21,
     "metadata": {},
     "output_type": "execute_result"
    }
   ],
   "source": [
    "common_user.rename(columns = {0: \"content\"}, inplace=True)\n",
    "common_user.head()"
   ]
  },
  {
   "cell_type": "code",
   "execution_count": 22,
   "id": "d7dcfe42",
   "metadata": {},
   "outputs": [
    {
     "data": {
      "text/html": [
       "<div>\n",
       "<style scoped>\n",
       "    .dataframe tbody tr th:only-of-type {\n",
       "        vertical-align: middle;\n",
       "    }\n",
       "\n",
       "    .dataframe tbody tr th {\n",
       "        vertical-align: top;\n",
       "    }\n",
       "\n",
       "    .dataframe thead th {\n",
       "        text-align: right;\n",
       "    }\n",
       "</style>\n",
       "<table border=\"1\" class=\"dataframe\">\n",
       "  <thead>\n",
       "    <tr style=\"text-align: right;\">\n",
       "      <th></th>\n",
       "      <th>content</th>\n",
       "      <th>words</th>\n",
       "    </tr>\n",
       "  </thead>\n",
       "  <tbody>\n",
       "    <tr>\n",
       "      <th>0</th>\n",
       "      <td>北京公布2月18日新发新冠肺炎确诊病例活动过的小区或场所 http://t.cn/A6h0lufr</td>\n",
       "      <td>北京 公布 新冠肺炎 确诊病例 活动 小区 场所</td>\n",
       "    </tr>\n",
       "    <tr>\n",
       "      <th>1</th>\n",
       "      <td>#全国性哀悼活动# [蜡烛]有些人的挚爱却永远留在了这个冬天。深切哀悼抗击新冠肺炎疫情斗争牺...</td>\n",
       "      <td>全国性 哀悼 活动 蜡烛 挚爱 留在 深切 哀悼 抗击 新冠肺炎 疫情 斗争 牺牲 烈士 逝...</td>\n",
       "    </tr>\n",
       "    <tr>\n",
       "      <th>2</th>\n",
       "      <td>清明时节心情凝，探望长空思绪浓。忧怀自古英烈魂，更为新冠泪湿巾。天灾人祸举国哀，十亿龙人泪满...</td>\n",
       "      <td>清明 时节 心情 探望 长空 思绪 忧怀 英烈 新冠 湿巾 举国 龙人 满怀 同胞 英魂 感...</td>\n",
       "    </tr>\n",
       "    <tr>\n",
       "      <th>3</th>\n",
       "      <td>截至4月26日18时，全球新冠肺炎疫情形势</td>\n",
       "      <td>全球 新冠肺炎 疫情 形势</td>\n",
       "    </tr>\n",
       "    <tr>\n",
       "      <th>4</th>\n",
       "      <td>#唐山确诊首例新型肺炎病例#坐标河北省唐山市迁安市沙河驿镇红庙子村，我们村开始给家家户户消毒...</td>\n",
       "      <td>唐山 确诊 首例 新型肺炎 病例 坐标 河北省 唐山市 迁安市 沙河 驿镇 红庙子 家家户户 消毒</td>\n",
       "    </tr>\n",
       "  </tbody>\n",
       "</table>\n",
       "</div>"
      ],
      "text/plain": [
       "                                             content  \\\n",
       "0  北京公布2月18日新发新冠肺炎确诊病例活动过的小区或场所 http://t.cn/A6h0lufr   \n",
       "1  #全国性哀悼活动# [蜡烛]有些人的挚爱却永远留在了这个冬天。深切哀悼抗击新冠肺炎疫情斗争牺...   \n",
       "2  清明时节心情凝，探望长空思绪浓。忧怀自古英烈魂，更为新冠泪湿巾。天灾人祸举国哀，十亿龙人泪满...   \n",
       "3                              截至4月26日18时，全球新冠肺炎疫情形势   \n",
       "4  #唐山确诊首例新型肺炎病例#坐标河北省唐山市迁安市沙河驿镇红庙子村，我们村开始给家家户户消毒...   \n",
       "\n",
       "                                               words  \n",
       "0                           北京 公布 新冠肺炎 确诊病例 活动 小区 场所  \n",
       "1  全国性 哀悼 活动 蜡烛 挚爱 留在 深切 哀悼 抗击 新冠肺炎 疫情 斗争 牺牲 烈士 逝...  \n",
       "2  清明 时节 心情 探望 长空 思绪 忧怀 英烈 新冠 湿巾 举国 龙人 满怀 同胞 英魂 感...  \n",
       "3                                      全球 新冠肺炎 疫情 形势  \n",
       "4  唐山 确诊 首例 新型肺炎 病例 坐标 河北省 唐山市 迁安市 沙河 驿镇 红庙子 家家户户 消毒  "
      ]
     },
     "execution_count": 22,
     "metadata": {},
     "output_type": "execute_result"
    }
   ],
   "source": [
    "common_user[\"words\"] = common_user[\"content\"].apply(lambda x: tokenize(x))\n",
    "common_user.head()"
   ]
  },
  {
   "cell_type": "code",
   "execution_count": 23,
   "id": "f738a00e",
   "metadata": {},
   "outputs": [
    {
     "data": {
      "text/html": [
       "<div>\n",
       "<style scoped>\n",
       "    .dataframe tbody tr th:only-of-type {\n",
       "        vertical-align: middle;\n",
       "    }\n",
       "\n",
       "    .dataframe tbody tr th {\n",
       "        vertical-align: top;\n",
       "    }\n",
       "\n",
       "    .dataframe thead th {\n",
       "        text-align: right;\n",
       "    }\n",
       "</style>\n",
       "<table border=\"1\" class=\"dataframe\">\n",
       "  <thead>\n",
       "    <tr style=\"text-align: right;\">\n",
       "      <th></th>\n",
       "      <th>content</th>\n",
       "      <th>words</th>\n",
       "    </tr>\n",
       "  </thead>\n",
       "  <tbody>\n",
       "    <tr>\n",
       "      <th>145</th>\n",
       "      <td>『COVID-19: genetic network analysis provides ‘...</td>\n",
       "      <td></td>\n",
       "    </tr>\n",
       "    <tr>\n",
       "      <th>249</th>\n",
       "      <td>Coronavirus: 42 more cases in UK, taking total...</td>\n",
       "      <td></td>\n",
       "    </tr>\n",
       "    <tr>\n",
       "      <th>449</th>\n",
       "      <td>Hanoi has had the first COVID-19 infection.  t...</td>\n",
       "      <td></td>\n",
       "    </tr>\n",
       "    <tr>\n",
       "      <th>546</th>\n",
       "      <td>Xi Focus: Xi calls for all-out global war agai...</td>\n",
       "      <td></td>\n",
       "    </tr>\n",
       "    <tr>\n",
       "      <th>549</th>\n",
       "      <td>PHEIC</td>\n",
       "      <td></td>\n",
       "    </tr>\n",
       "    <tr>\n",
       "      <th>578</th>\n",
       "      <td>Coronavirus: How California kept ahead of the ...</td>\n",
       "      <td></td>\n",
       "    </tr>\n",
       "    <tr>\n",
       "      <th>589</th>\n",
       "      <td>Xi Focus: Xi calls for all-out global war agai...</td>\n",
       "      <td></td>\n",
       "    </tr>\n",
       "  </tbody>\n",
       "</table>\n",
       "</div>"
      ],
      "text/plain": [
       "                                               content words\n",
       "145  『COVID-19: genetic network analysis provides ‘...      \n",
       "249  Coronavirus: 42 more cases in UK, taking total...      \n",
       "449  Hanoi has had the first COVID-19 infection.  t...      \n",
       "546  Xi Focus: Xi calls for all-out global war agai...      \n",
       "549                                              PHEIC      \n",
       "578  Coronavirus: How California kept ahead of the ...      \n",
       "589  Xi Focus: Xi calls for all-out global war agai...      "
      ]
     },
     "execution_count": 23,
     "metadata": {},
     "output_type": "execute_result"
    }
   ],
   "source": [
    "# 请记住核验空行\n",
    "common_user[common_user[\"words\"].apply(lambda x: len(x.strip().split())) == 0]"
   ]
  },
  {
   "cell_type": "code",
   "execution_count": 24,
   "id": "edadeabd",
   "metadata": {},
   "outputs": [
    {
     "data": {
      "text/plain": [
       "(993, 2)"
      ]
     },
     "execution_count": 24,
     "metadata": {},
     "output_type": "execute_result"
    }
   ],
   "source": [
    "common_user = common_user[common_user[\"words\"].apply(lambda x: len(x.strip().split())) > 0]\n",
    "common_user.shape"
   ]
  },
  {
   "cell_type": "code",
   "execution_count": 25,
   "id": "dff6c683",
   "metadata": {},
   "outputs": [
    {
     "data": {
      "text/html": [
       "<div>\n",
       "<style scoped>\n",
       "    .dataframe tbody tr th:only-of-type {\n",
       "        vertical-align: middle;\n",
       "    }\n",
       "\n",
       "    .dataframe tbody tr th {\n",
       "        vertical-align: top;\n",
       "    }\n",
       "\n",
       "    .dataframe thead th {\n",
       "        text-align: right;\n",
       "    }\n",
       "</style>\n",
       "<table border=\"1\" class=\"dataframe\">\n",
       "  <thead>\n",
       "    <tr style=\"text-align: right;\">\n",
       "      <th></th>\n",
       "      <th>content</th>\n",
       "      <th>words</th>\n",
       "    </tr>\n",
       "  </thead>\n",
       "  <tbody>\n",
       "    <tr>\n",
       "      <th>988</th>\n",
       "      <td>《独家｜上海研发新冠人源细胞疫苗，科学家已亲试第一针》自新冠肺炎疫情发生以来，我国的科研攻关...</td>\n",
       "      <td>独家 上海 新冠 人源 细胞 疫苗 科学家 新冠肺炎 疫情 发生 科研 攻关组 设立 疫苗 ...</td>\n",
       "    </tr>\n",
       "    <tr>\n",
       "      <th>989</th>\n",
       "      <td>#山西新增7例新型肺炎#只要B类控制住了，就能放心了。所以各位尽量别隐瞒自己的行动路线，没事...</td>\n",
       "      <td>山西 新增 新型肺炎 控制 放心 隐瞒 路线 出门 扎堆 显示 地图</td>\n",
       "    </tr>\n",
       "    <tr>\n",
       "      <th>990</th>\n",
       "      <td>『全国新型肺炎疫情实时动态 - 丁香园·丁香医生』http://t.cn/A6vBv3yL</td>\n",
       "      <td>全国 新型肺炎 疫情 动态 丁香 丁香 医生</td>\n",
       "    </tr>\n",
       "    <tr>\n",
       "      <th>991</th>\n",
       "      <td>#追星史大battle##眼泪及结膜分泌物存在新冠病毒#</td>\n",
       "      <td>追星 史大 眼泪 结膜 分泌物 新冠病毒</td>\n",
       "    </tr>\n",
       "    <tr>\n",
       "      <th>992</th>\n",
       "      <td>新冠期间比平时上班还忙，各种岗位轮换，还有线上教学各种事，我19年年假还没休呢，说好的三月带...</td>\n",
       "      <td>新冠 上班 岗位 轮换 教学 没休 说好 沙子 哪吒 委屈 算了 头箍 旅游 米虫 破坏 大...</td>\n",
       "    </tr>\n",
       "  </tbody>\n",
       "</table>\n",
       "</div>"
      ],
      "text/plain": [
       "                                               content  \\\n",
       "988  《独家｜上海研发新冠人源细胞疫苗，科学家已亲试第一针》自新冠肺炎疫情发生以来，我国的科研攻关...   \n",
       "989  #山西新增7例新型肺炎#只要B类控制住了，就能放心了。所以各位尽量别隐瞒自己的行动路线，没事...   \n",
       "990      『全国新型肺炎疫情实时动态 - 丁香园·丁香医生』http://t.cn/A6vBv3yL   \n",
       "991                       #追星史大battle##眼泪及结膜分泌物存在新冠病毒#   \n",
       "992  新冠期间比平时上班还忙，各种岗位轮换，还有线上教学各种事，我19年年假还没休呢，说好的三月带...   \n",
       "\n",
       "                                                 words  \n",
       "988  独家 上海 新冠 人源 细胞 疫苗 科学家 新冠肺炎 疫情 发生 科研 攻关组 设立 疫苗 ...  \n",
       "989                 山西 新增 新型肺炎 控制 放心 隐瞒 路线 出门 扎堆 显示 地图  \n",
       "990                             全国 新型肺炎 疫情 动态 丁香 丁香 医生  \n",
       "991                               追星 史大 眼泪 结膜 分泌物 新冠病毒  \n",
       "992  新冠 上班 岗位 轮换 教学 没休 说好 沙子 哪吒 委屈 算了 头箍 旅游 米虫 破坏 大...  "
      ]
     },
     "execution_count": 25,
     "metadata": {},
     "output_type": "execute_result"
    }
   ],
   "source": [
    "common_user.reset_index(drop=True, inplace=True)\n",
    "common_user.tail()"
   ]
  },
  {
   "cell_type": "markdown",
   "id": "ddc9de8f",
   "metadata": {},
   "source": [
    "- 对认证个人用户的语料进行类似的处理"
   ]
  },
  {
   "cell_type": "code",
   "execution_count": 26,
   "id": "60e1032d",
   "metadata": {},
   "outputs": [
    {
     "data": {
      "text/html": [
       "<div>\n",
       "<style scoped>\n",
       "    .dataframe tbody tr th:only-of-type {\n",
       "        vertical-align: middle;\n",
       "    }\n",
       "\n",
       "    .dataframe tbody tr th {\n",
       "        vertical-align: top;\n",
       "    }\n",
       "\n",
       "    .dataframe thead th {\n",
       "        text-align: right;\n",
       "    }\n",
       "</style>\n",
       "<table border=\"1\" class=\"dataframe\">\n",
       "  <thead>\n",
       "    <tr style=\"text-align: right;\">\n",
       "      <th></th>\n",
       "      <th>0</th>\n",
       "    </tr>\n",
       "  </thead>\n",
       "  <tbody>\n",
       "    <tr>\n",
       "      <th>0</th>\n",
       "      <td>#新冠肺炎##英国封城日记##海外抗疫日记##英国疫情#</td>\n",
       "    </tr>\n",
       "    <tr>\n",
       "      <th>1</th>\n",
       "      <td>新冠肺炎疫情影响，中医临床教学主要采取线上教学，通过观看慕课《中医内科学选讲》，并通过企业微...</td>\n",
       "    </tr>\n",
       "    <tr>\n",
       "      <th>2</th>\n",
       "      <td>【多地扩大核酸检测范围、常态化趋势渐显】18日，北京金域医学实验室、京东健康达成合作，上线“...</td>\n",
       "    </tr>\n",
       "    <tr>\n",
       "      <th>3</th>\n",
       "      <td>『姚前：新冠肺炎疫情与数字美元』姚前：新冠肺炎疫情与数字美元</td>\n",
       "    </tr>\n",
       "    <tr>\n",
       "      <th>4</th>\n",
       "      <td>【主人担心动物传播新冠病毒，#中东大量宠物被遗弃#[伤心]】据媒体4月14日报道，在整个中东...</td>\n",
       "    </tr>\n",
       "  </tbody>\n",
       "</table>\n",
       "</div>"
      ],
      "text/plain": [
       "                                                   0\n",
       "0                       #新冠肺炎##英国封城日记##海外抗疫日记##英国疫情#\n",
       "1  新冠肺炎疫情影响，中医临床教学主要采取线上教学，通过观看慕课《中医内科学选讲》，并通过企业微...\n",
       "2  【多地扩大核酸检测范围、常态化趋势渐显】18日，北京金域医学实验室、京东健康达成合作，上线“...\n",
       "3                     『姚前：新冠肺炎疫情与数字美元』姚前：新冠肺炎疫情与数字美元\n",
       "4  【主人担心动物传播新冠病毒，#中东大量宠物被遗弃#[伤心]】据媒体4月14日报道，在整个中东..."
      ]
     },
     "execution_count": 26,
     "metadata": {},
     "output_type": "execute_result"
    }
   ],
   "source": [
    "elite_user = pd.read_csv(\"./elite_user.txt\", header=None, index_col=None, sep=\"\\n\")\n",
    "elite_user.head()"
   ]
  },
  {
   "cell_type": "code",
   "execution_count": 27,
   "id": "46e2e5ca",
   "metadata": {},
   "outputs": [
    {
     "data": {
      "text/plain": [
       "(1000, 1)"
      ]
     },
     "execution_count": 27,
     "metadata": {},
     "output_type": "execute_result"
    }
   ],
   "source": [
    "elite_user.shape"
   ]
  },
  {
   "cell_type": "code",
   "execution_count": 28,
   "id": "f2f0e742",
   "metadata": {},
   "outputs": [
    {
     "data": {
      "text/html": [
       "<div>\n",
       "<style scoped>\n",
       "    .dataframe tbody tr th:only-of-type {\n",
       "        vertical-align: middle;\n",
       "    }\n",
       "\n",
       "    .dataframe tbody tr th {\n",
       "        vertical-align: top;\n",
       "    }\n",
       "\n",
       "    .dataframe thead th {\n",
       "        text-align: right;\n",
       "    }\n",
       "</style>\n",
       "<table border=\"1\" class=\"dataframe\">\n",
       "  <thead>\n",
       "    <tr style=\"text-align: right;\">\n",
       "      <th></th>\n",
       "      <th>content</th>\n",
       "    </tr>\n",
       "  </thead>\n",
       "  <tbody>\n",
       "    <tr>\n",
       "      <th>0</th>\n",
       "      <td>#新冠肺炎##英国封城日记##海外抗疫日记##英国疫情#</td>\n",
       "    </tr>\n",
       "    <tr>\n",
       "      <th>1</th>\n",
       "      <td>新冠肺炎疫情影响，中医临床教学主要采取线上教学，通过观看慕课《中医内科学选讲》，并通过企业微...</td>\n",
       "    </tr>\n",
       "    <tr>\n",
       "      <th>2</th>\n",
       "      <td>【多地扩大核酸检测范围、常态化趋势渐显】18日，北京金域医学实验室、京东健康达成合作，上线“...</td>\n",
       "    </tr>\n",
       "    <tr>\n",
       "      <th>3</th>\n",
       "      <td>『姚前：新冠肺炎疫情与数字美元』姚前：新冠肺炎疫情与数字美元</td>\n",
       "    </tr>\n",
       "    <tr>\n",
       "      <th>4</th>\n",
       "      <td>【主人担心动物传播新冠病毒，#中东大量宠物被遗弃#[伤心]】据媒体4月14日报道，在整个中东...</td>\n",
       "    </tr>\n",
       "  </tbody>\n",
       "</table>\n",
       "</div>"
      ],
      "text/plain": [
       "                                             content\n",
       "0                       #新冠肺炎##英国封城日记##海外抗疫日记##英国疫情#\n",
       "1  新冠肺炎疫情影响，中医临床教学主要采取线上教学，通过观看慕课《中医内科学选讲》，并通过企业微...\n",
       "2  【多地扩大核酸检测范围、常态化趋势渐显】18日，北京金域医学实验室、京东健康达成合作，上线“...\n",
       "3                     『姚前：新冠肺炎疫情与数字美元』姚前：新冠肺炎疫情与数字美元\n",
       "4  【主人担心动物传播新冠病毒，#中东大量宠物被遗弃#[伤心]】据媒体4月14日报道，在整个中东..."
      ]
     },
     "execution_count": 28,
     "metadata": {},
     "output_type": "execute_result"
    }
   ],
   "source": [
    "elite_user.rename(columns = {0: \"content\"}, inplace=True)\n",
    "elite_user.head()"
   ]
  },
  {
   "cell_type": "code",
   "execution_count": 29,
   "id": "f895eed0",
   "metadata": {},
   "outputs": [
    {
     "data": {
      "text/html": [
       "<div>\n",
       "<style scoped>\n",
       "    .dataframe tbody tr th:only-of-type {\n",
       "        vertical-align: middle;\n",
       "    }\n",
       "\n",
       "    .dataframe tbody tr th {\n",
       "        vertical-align: top;\n",
       "    }\n",
       "\n",
       "    .dataframe thead th {\n",
       "        text-align: right;\n",
       "    }\n",
       "</style>\n",
       "<table border=\"1\" class=\"dataframe\">\n",
       "  <thead>\n",
       "    <tr style=\"text-align: right;\">\n",
       "      <th></th>\n",
       "      <th>content</th>\n",
       "      <th>words</th>\n",
       "    </tr>\n",
       "  </thead>\n",
       "  <tbody>\n",
       "    <tr>\n",
       "      <th>0</th>\n",
       "      <td>#新冠肺炎##英国封城日记##海外抗疫日记##英国疫情#</td>\n",
       "      <td>新冠肺炎 英国 封城 日记 抗疫 日记 英国 疫情</td>\n",
       "    </tr>\n",
       "    <tr>\n",
       "      <th>1</th>\n",
       "      <td>新冠肺炎疫情影响，中医临床教学主要采取线上教学，通过观看慕课《中医内科学选讲》，并通过企业微...</td>\n",
       "      <td>新冠肺炎 疫情 影响 教学 观看 科学 选讲 企业 微信 会议 外加 答疑 讲解 病证 心悸...</td>\n",
       "    </tr>\n",
       "    <tr>\n",
       "      <th>2</th>\n",
       "      <td>【多地扩大核酸检测范围、常态化趋势渐显】18日，北京金域医学实验室、京东健康达成合作，上线“...</td>\n",
       "      <td>核酸检测 常态 趋势 北京 金域 医学 实验室 京东 健康 达成 合作 上线 新冠病毒 核酸...</td>\n",
       "    </tr>\n",
       "    <tr>\n",
       "      <th>3</th>\n",
       "      <td>『姚前：新冠肺炎疫情与数字美元』姚前：新冠肺炎疫情与数字美元</td>\n",
       "      <td>姚前 新冠肺炎 疫情 数字 姚前 新冠肺炎 疫情 数字</td>\n",
       "    </tr>\n",
       "    <tr>\n",
       "      <th>4</th>\n",
       "      <td>【主人担心动物传播新冠病毒，#中东大量宠物被遗弃#[伤心]】据媒体4月14日报道，在整个中东...</td>\n",
       "      <td>主人 担心 动物 传播 新冠病毒 中东 宠物 被遗弃 伤心 媒体 报道 中东地区 害怕 宠物...</td>\n",
       "    </tr>\n",
       "  </tbody>\n",
       "</table>\n",
       "</div>"
      ],
      "text/plain": [
       "                                             content  \\\n",
       "0                       #新冠肺炎##英国封城日记##海外抗疫日记##英国疫情#   \n",
       "1  新冠肺炎疫情影响，中医临床教学主要采取线上教学，通过观看慕课《中医内科学选讲》，并通过企业微...   \n",
       "2  【多地扩大核酸检测范围、常态化趋势渐显】18日，北京金域医学实验室、京东健康达成合作，上线“...   \n",
       "3                     『姚前：新冠肺炎疫情与数字美元』姚前：新冠肺炎疫情与数字美元   \n",
       "4  【主人担心动物传播新冠病毒，#中东大量宠物被遗弃#[伤心]】据媒体4月14日报道，在整个中东...   \n",
       "\n",
       "                                               words  \n",
       "0                          新冠肺炎 英国 封城 日记 抗疫 日记 英国 疫情  \n",
       "1  新冠肺炎 疫情 影响 教学 观看 科学 选讲 企业 微信 会议 外加 答疑 讲解 病证 心悸...  \n",
       "2  核酸检测 常态 趋势 北京 金域 医学 实验室 京东 健康 达成 合作 上线 新冠病毒 核酸...  \n",
       "3                        姚前 新冠肺炎 疫情 数字 姚前 新冠肺炎 疫情 数字  \n",
       "4  主人 担心 动物 传播 新冠病毒 中东 宠物 被遗弃 伤心 媒体 报道 中东地区 害怕 宠物...  "
      ]
     },
     "execution_count": 29,
     "metadata": {},
     "output_type": "execute_result"
    }
   ],
   "source": [
    "elite_user[\"words\"] = elite_user[\"content\"].apply(lambda x: tokenize(x))\n",
    "elite_user.head()"
   ]
  },
  {
   "cell_type": "code",
   "execution_count": 30,
   "id": "79fe5d82",
   "metadata": {},
   "outputs": [
    {
     "data": {
      "text/html": [
       "<div>\n",
       "<style scoped>\n",
       "    .dataframe tbody tr th:only-of-type {\n",
       "        vertical-align: middle;\n",
       "    }\n",
       "\n",
       "    .dataframe tbody tr th {\n",
       "        vertical-align: top;\n",
       "    }\n",
       "\n",
       "    .dataframe thead th {\n",
       "        text-align: right;\n",
       "    }\n",
       "</style>\n",
       "<table border=\"1\" class=\"dataframe\">\n",
       "  <thead>\n",
       "    <tr style=\"text-align: right;\">\n",
       "      <th></th>\n",
       "      <th>content</th>\n",
       "      <th>words</th>\n",
       "    </tr>\n",
       "  </thead>\n",
       "  <tbody>\n",
       "    <tr>\n",
       "      <th>434</th>\n",
       "      <td>KEEP FIGHTING COVID-19</td>\n",
       "      <td></td>\n",
       "    </tr>\n",
       "    <tr>\n",
       "      <th>671</th>\n",
       "      <td>ISI最新的survey：“ Interestingly, we saw a clear i...</td>\n",
       "      <td></td>\n",
       "    </tr>\n",
       "  </tbody>\n",
       "</table>\n",
       "</div>"
      ],
      "text/plain": [
       "                                               content words\n",
       "434                             KEEP FIGHTING COVID-19      \n",
       "671  ISI最新的survey：“ Interestingly, we saw a clear i...      "
      ]
     },
     "execution_count": 30,
     "metadata": {},
     "output_type": "execute_result"
    }
   ],
   "source": [
    "# 请记住核验空行\n",
    "elite_user[elite_user[\"words\"].apply(lambda x: len(x.strip().split())) == 0]"
   ]
  },
  {
   "cell_type": "code",
   "execution_count": 31,
   "id": "dc835ee3",
   "metadata": {},
   "outputs": [
    {
     "data": {
      "text/plain": [
       "(998, 2)"
      ]
     },
     "execution_count": 31,
     "metadata": {},
     "output_type": "execute_result"
    }
   ],
   "source": [
    "elite_user = elite_user[elite_user[\"words\"].apply(lambda x: len(x.strip().split())) > 0]\n",
    "elite_user.shape"
   ]
  },
  {
   "cell_type": "code",
   "execution_count": 32,
   "id": "4ace8fc7",
   "metadata": {},
   "outputs": [
    {
     "data": {
      "text/html": [
       "<div>\n",
       "<style scoped>\n",
       "    .dataframe tbody tr th:only-of-type {\n",
       "        vertical-align: middle;\n",
       "    }\n",
       "\n",
       "    .dataframe tbody tr th {\n",
       "        vertical-align: top;\n",
       "    }\n",
       "\n",
       "    .dataframe thead th {\n",
       "        text-align: right;\n",
       "    }\n",
       "</style>\n",
       "<table border=\"1\" class=\"dataframe\">\n",
       "  <thead>\n",
       "    <tr style=\"text-align: right;\">\n",
       "      <th></th>\n",
       "      <th>content</th>\n",
       "      <th>words</th>\n",
       "    </tr>\n",
       "  </thead>\n",
       "  <tbody>\n",
       "    <tr>\n",
       "      <th>993</th>\n",
       "      <td>#美国出现首例新冠肺炎死亡病例# 你们说没有的 是忘记山东大学 陪读的事情了吗</td>\n",
       "      <td>美国 首例 新冠肺炎 死亡病例 忘记 山东大学 陪读 事情</td>\n",
       "    </tr>\n",
       "    <tr>\n",
       "      <th>994</th>\n",
       "      <td>#中国以外确诊病例超230万#【世卫组织：#中国以外新冠确诊病例达2312966#例】世界卫...</td>\n",
       "      <td>中国 确诊病例 世卫 组织 中国 新冠 确诊病例 世界卫生组织 公布 数据 显示 中国 新冠...</td>\n",
       "    </tr>\n",
       "    <tr>\n",
       "      <th>995</th>\n",
       "      <td>这期#Ricki在忙啥# 聊新冠对球鞋行业的影响。和国内疫情得到有效控制不同，国外的新冠疫情...</td>\n",
       "      <td>新冠 球鞋 行业 影响 疫情 控制 新冠 疫情 趋势 深受 全球化 影响 球鞋 行业 疫情 ...</td>\n",
       "    </tr>\n",
       "    <tr>\n",
       "      <th>996</th>\n",
       "      <td>#金贤重[超话]# 各位henecia  10年老龄粉 想在此提醒各位   为表达全国各族人...</td>\n",
       "      <td>金贤 超话 老龄 提醒 表达 全国 抗击 新冠肺炎 疫情 斗争 牺牲 烈士 逝世 同胞 深切...</td>\n",
       "    </tr>\n",
       "    <tr>\n",
       "      <th>997</th>\n",
       "      <td>#新冠肺炎传播途径包括气溶胶传播#不是，这个意思是要么央视在造谣，要么是微信在造谣咯？ 赣州...</td>\n",
       "      <td>新冠肺炎 传播 途径 包括 气溶胶 传播 造谣 微信 造谣 赣州 显示 地图</td>\n",
       "    </tr>\n",
       "  </tbody>\n",
       "</table>\n",
       "</div>"
      ],
      "text/plain": [
       "                                               content  \\\n",
       "993            #美国出现首例新冠肺炎死亡病例# 你们说没有的 是忘记山东大学 陪读的事情了吗   \n",
       "994  #中国以外确诊病例超230万#【世卫组织：#中国以外新冠确诊病例达2312966#例】世界卫...   \n",
       "995  这期#Ricki在忙啥# 聊新冠对球鞋行业的影响。和国内疫情得到有效控制不同，国外的新冠疫情...   \n",
       "996  #金贤重[超话]# 各位henecia  10年老龄粉 想在此提醒各位   为表达全国各族人...   \n",
       "997  #新冠肺炎传播途径包括气溶胶传播#不是，这个意思是要么央视在造谣，要么是微信在造谣咯？ 赣州...   \n",
       "\n",
       "                                                 words  \n",
       "993                      美国 首例 新冠肺炎 死亡病例 忘记 山东大学 陪读 事情  \n",
       "994  中国 确诊病例 世卫 组织 中国 新冠 确诊病例 世界卫生组织 公布 数据 显示 中国 新冠...  \n",
       "995  新冠 球鞋 行业 影响 疫情 控制 新冠 疫情 趋势 深受 全球化 影响 球鞋 行业 疫情 ...  \n",
       "996  金贤 超话 老龄 提醒 表达 全国 抗击 新冠肺炎 疫情 斗争 牺牲 烈士 逝世 同胞 深切...  \n",
       "997             新冠肺炎 传播 途径 包括 气溶胶 传播 造谣 微信 造谣 赣州 显示 地图  "
      ]
     },
     "execution_count": 32,
     "metadata": {},
     "output_type": "execute_result"
    }
   ],
   "source": [
    "elite_user.reset_index(drop=True, inplace=True)\n",
    "elite_user.tail()"
   ]
  },
  {
   "cell_type": "markdown",
   "id": "17ffd6c6",
   "metadata": {},
   "source": [
    "# 4⃣️ 语义网络分析"
   ]
  },
  {
   "cell_type": "markdown",
   "id": "e84d960a",
   "metadata": {},
   "source": [
    "工具推荐（不想写代码不是你的错！但是不写代码时文本处理自由度会受到影响！）\n",
    "- WORDij\n",
    "\n",
    "    [WORDij](https://www.wordij.net/)  \n",
    "    [WORDij - Original Paper](https://trec.nist.gov/pubs/trec1/papers/10.txt#:~:text=WORDij%20is%20a%20system%20based,local%20approach%20to%20term%20cooccurrence.)\n",
    "\n",
    "\n",
    "\n",
    "- ConText\n",
    "    \n",
    "    [ConText](http://context.ischool.illinois.edu/)   \n",
    "    [ConText - Original Paper](http://jdiesnerlab.ischool.illinois.edu/calls/ICA2014/Diesner_ICA_2014.pdf)\n",
    "\n",
    "\n",
    "- 语义网络分析的原理与操作步骤（来自**罗晨的学位论文**）\n",
    "> 语义网络分析的基本假设是文本是由词语构成的意义之网，从词语之间的关联（通常是共现关系）出发，研究者可以推演文本蕴含的意义（Barnett et al., 1988; Jiang et al., 2016）。从方法源流来看，语义网络分析肇始于认知范式（cognitive paradigm）和语言学研究中的框架语义传统（frames semantics tradition），认为词语之间的关联是人类思维的外显（Jiang et al., 2016; Jiang et al., 2018）。根据词语或特定概念之间的关联绘制出结构化网络并进行二次处理相当于将文本意义投射于空间模型（spatial model）之上，得以让研究者辨识关键的概念、占据核心地位的主题词、意义集群，以及概念之间的亲疏远近（Calabrese et al., 2019; Calabrese et al., 2020; Kwon et al., 2009）。\n",
    ">\n",
    ">\n",
    "> 相比传播学研究中传统的内容分析方法，语义网络分析摆脱了先验定义（priori definitions）的框限，允许意义从词语关联中自然浮现而出。此外，语义网络分析采纳的关联化（interconnected）视角更贴近人类的自然思维，克服了用孤立化（isolated）路径考察词语或概念时带来的意义残缺风险 （Doerfel, 1998; Rice et al., 1993）。作为自动化文本分析这一家族中历史最为悠久且应用最为广泛的方法之一（Hilbert et al., 2019），语义网络分析在近年来被用以探索公众对于疫苗（Ruiz et al., 2015）、转基因食品（Jiang et al., 2018）、新发传染病（Tang et al., 2018b）等社会议题的感知。\n",
    ">\n",
    "> 在具体操作上，语义网络分析的操作流程已非常明确。参照 Calabrese 等（2020）与 Featherstone 等（2020）的总结，语义网络分析大致包括四个步骤：\n",
    "    >\n",
    "    >     第一，对原始语料进行预处理（preprocessing），并对保留词汇的频数进行统计；\n",
    "    >     第二，根据定义的计算规则统计词语之间的关系（通常为共现关系），建立起保留词汇之间的关系矩阵，也就是所谓的语义矩阵；\n",
    "    >     第三，运用网络可视化工具视觉化语义矩阵，呈现出词汇的空间分布；\n",
    "    >     第四，根据研究目的计算网络统计指标（如：网络密度、词汇的度中心性、词汇的特征向量中心性），如果需要辨识网络当中的语义集群，则还需进一步对语义网络实施模块化分析。"
   ]
  },
  {
   "cell_type": "code",
   "execution_count": 33,
   "id": "86bcc96f",
   "metadata": {},
   "outputs": [],
   "source": [
    "dumped_words = [\"新冠\", \"新肺炎\", \"新型肺炎\", \"国际公共卫生紧急事件\", \"新冠肺炎\", \"新型冠状病毒肺炎\", \n",
    "                \"肺炎\", \"不明原因肺炎\", \"不明肺炎\", \"新冠疫情\", \"疫情\", \"新型冠状病毒\", \"肺炎疫情\", \"冠状\", \n",
    "                \"冠状病毒\", \"新型冠状\", \"新冠病毒\", \"地图\", \"显示\", \"头条\", \"文章\", \"微博\", \"视频\", \"真的\"]"
   ]
  },
  {
   "cell_type": "code",
   "execution_count": 34,
   "id": "9857aace",
   "metadata": {},
   "outputs": [],
   "source": [
    "# 第一步：词频统计\n",
    "# numpy: 为了设定数据类型服务\n",
    "import numpy as np\n",
    "from collections import defaultdict\n",
    "# itertools：为了计算排列组合\n",
    "from itertools import combinations"
   ]
  },
  {
   "cell_type": "code",
   "execution_count": 35,
   "id": "d2055452",
   "metadata": {},
   "outputs": [],
   "source": [
    "# 针对普通用户发布的微博\n",
    "common_user_freq = defaultdict(int)\n",
    "\n",
    "for line in common_user[\"words\"]:\n",
    "    for word in line.strip().split():\n",
    "        if word not in dumped_words: # 后期加入，需要根据词频统计结果进行调整\n",
    "            common_user_freq[word] += 1\n",
    "\n",
    "with open(\"./common_user_freq.txt\", \"w\", encoding=\"utf-8\") as t:\n",
    "    for word, freq in sorted(dict(common_user_freq).items(), key=lambda x: x[1], reverse=True):\n",
    "        t.write(word + \",\" + str(freq) + \"\\n\")"
   ]
  },
  {
   "cell_type": "code",
   "execution_count": 36,
   "id": "3a30abde",
   "metadata": {},
   "outputs": [],
   "source": [
    "# 针对认证个人用户发布的微博\n",
    "elite_user_freq = defaultdict(int)\n",
    "\n",
    "for line in elite_user[\"words\"]:\n",
    "    for word in line.strip().split():\n",
    "        if word not in dumped_words: # 后期加入，需要根据词频统计结果进行调整\n",
    "            elite_user_freq[word] += 1\n",
    "\n",
    "with open(\"./elite_user_freq.txt\", \"w\", encoding=\"utf-8\") as t:\n",
    "    for word, freq in sorted(dict(elite_user_freq).items(), key=lambda x: x[1], reverse=True):\n",
    "        t.write(word + \",\" + str(freq) + \"\\n\")"
   ]
  },
  {
   "cell_type": "code",
   "execution_count": 37,
   "id": "7d523254",
   "metadata": {},
   "outputs": [
    {
     "data": {
      "text/html": [
       "<div>\n",
       "<style scoped>\n",
       "    .dataframe tbody tr th:only-of-type {\n",
       "        vertical-align: middle;\n",
       "    }\n",
       "\n",
       "    .dataframe tbody tr th {\n",
       "        vertical-align: top;\n",
       "    }\n",
       "\n",
       "    .dataframe thead th {\n",
       "        text-align: right;\n",
       "    }\n",
       "</style>\n",
       "<table border=\"1\" class=\"dataframe\">\n",
       "  <thead>\n",
       "    <tr style=\"text-align: right;\">\n",
       "      <th></th>\n",
       "      <th>普通用户_高频词</th>\n",
       "      <th>普通用户_词频</th>\n",
       "      <th>认证个人_高频词</th>\n",
       "      <th>认证个人_词频</th>\n",
       "    </tr>\n",
       "  </thead>\n",
       "  <tbody>\n",
       "    <tr>\n",
       "      <th>0</th>\n",
       "      <td>中国</td>\n",
       "      <td>206.0</td>\n",
       "      <td>美国</td>\n",
       "      <td>405.0</td>\n",
       "    </tr>\n",
       "    <tr>\n",
       "      <th>1</th>\n",
       "      <td>确诊</td>\n",
       "      <td>178.0</td>\n",
       "      <td>中国</td>\n",
       "      <td>278.0</td>\n",
       "    </tr>\n",
       "    <tr>\n",
       "      <th>2</th>\n",
       "      <td>美国</td>\n",
       "      <td>161.0</td>\n",
       "      <td>确诊</td>\n",
       "      <td>237.0</td>\n",
       "    </tr>\n",
       "    <tr>\n",
       "      <th>3</th>\n",
       "      <td>武汉</td>\n",
       "      <td>154.0</td>\n",
       "      <td>感染</td>\n",
       "      <td>180.0</td>\n",
       "    </tr>\n",
       "    <tr>\n",
       "      <th>4</th>\n",
       "      <td>病例</td>\n",
       "      <td>124.0</td>\n",
       "      <td>确诊病例</td>\n",
       "      <td>166.0</td>\n",
       "    </tr>\n",
       "    <tr>\n",
       "      <th>5</th>\n",
       "      <td>全国</td>\n",
       "      <td>122.0</td>\n",
       "      <td>病毒</td>\n",
       "      <td>159.0</td>\n",
       "    </tr>\n",
       "    <tr>\n",
       "      <th>6</th>\n",
       "      <td>抗击</td>\n",
       "      <td>120.0</td>\n",
       "      <td>武汉</td>\n",
       "      <td>140.0</td>\n",
       "    </tr>\n",
       "    <tr>\n",
       "      <th>7</th>\n",
       "      <td>新增</td>\n",
       "      <td>104.0</td>\n",
       "      <td>全球</td>\n",
       "      <td>138.0</td>\n",
       "    </tr>\n",
       "    <tr>\n",
       "      <th>8</th>\n",
       "      <td>患者</td>\n",
       "      <td>104.0</td>\n",
       "      <td>抗击</td>\n",
       "      <td>128.0</td>\n",
       "    </tr>\n",
       "    <tr>\n",
       "      <th>9</th>\n",
       "      <td>加油</td>\n",
       "      <td>98.0</td>\n",
       "      <td>患者</td>\n",
       "      <td>124.0</td>\n",
       "    </tr>\n",
       "    <tr>\n",
       "      <th>10</th>\n",
       "      <td>感染</td>\n",
       "      <td>95.0</td>\n",
       "      <td>检测</td>\n",
       "      <td>120.0</td>\n",
       "    </tr>\n",
       "    <tr>\n",
       "      <th>11</th>\n",
       "      <td>确诊病例</td>\n",
       "      <td>88.0</td>\n",
       "      <td>新增</td>\n",
       "      <td>120.0</td>\n",
       "    </tr>\n",
       "    <tr>\n",
       "      <th>12</th>\n",
       "      <td>病毒</td>\n",
       "      <td>87.0</td>\n",
       "      <td>病例</td>\n",
       "      <td>119.0</td>\n",
       "    </tr>\n",
       "    <tr>\n",
       "      <th>13</th>\n",
       "      <td>医院</td>\n",
       "      <td>81.0</td>\n",
       "      <td>医院</td>\n",
       "      <td>116.0</td>\n",
       "    </tr>\n",
       "    <tr>\n",
       "      <th>14</th>\n",
       "      <td>工作</td>\n",
       "      <td>77.0</td>\n",
       "      <td>时间</td>\n",
       "      <td>114.0</td>\n",
       "    </tr>\n",
       "    <tr>\n",
       "      <th>15</th>\n",
       "      <td>检测</td>\n",
       "      <td>65.0</td>\n",
       "      <td>国家</td>\n",
       "      <td>111.0</td>\n",
       "    </tr>\n",
       "    <tr>\n",
       "      <th>16</th>\n",
       "      <td>希望</td>\n",
       "      <td>64.0</td>\n",
       "      <td>全国</td>\n",
       "      <td>109.0</td>\n",
       "    </tr>\n",
       "    <tr>\n",
       "      <th>17</th>\n",
       "      <td>医生</td>\n",
       "      <td>64.0</td>\n",
       "      <td>加油</td>\n",
       "      <td>95.0</td>\n",
       "    </tr>\n",
       "    <tr>\n",
       "      <th>18</th>\n",
       "      <td>国家</td>\n",
       "      <td>63.0</td>\n",
       "      <td>影响</td>\n",
       "      <td>93.0</td>\n",
       "    </tr>\n",
       "    <tr>\n",
       "      <th>19</th>\n",
       "      <td>全球</td>\n",
       "      <td>62.0</td>\n",
       "      <td>世界</td>\n",
       "      <td>93.0</td>\n",
       "    </tr>\n",
       "    <tr>\n",
       "      <th>20</th>\n",
       "      <td>新闻</td>\n",
       "      <td>56.0</td>\n",
       "      <td>死亡</td>\n",
       "      <td>92.0</td>\n",
       "    </tr>\n",
       "    <tr>\n",
       "      <th>21</th>\n",
       "      <td>意大利</td>\n",
       "      <td>55.0</td>\n",
       "      <td>累计</td>\n",
       "      <td>90.0</td>\n",
       "    </tr>\n",
       "    <tr>\n",
       "      <th>22</th>\n",
       "      <td>死亡</td>\n",
       "      <td>55.0</td>\n",
       "      <td>口罩</td>\n",
       "      <td>87.0</td>\n",
       "    </tr>\n",
       "    <tr>\n",
       "      <th>23</th>\n",
       "      <td>疫情防控</td>\n",
       "      <td>54.0</td>\n",
       "      <td>超话</td>\n",
       "      <td>86.0</td>\n",
       "    </tr>\n",
       "    <tr>\n",
       "      <th>24</th>\n",
       "      <td>超过</td>\n",
       "      <td>53.0</td>\n",
       "      <td>隔离</td>\n",
       "      <td>85.0</td>\n",
       "    </tr>\n",
       "    <tr>\n",
       "      <th>25</th>\n",
       "      <td>时间</td>\n",
       "      <td>53.0</td>\n",
       "      <td>人员</td>\n",
       "      <td>85.0</td>\n",
       "    </tr>\n",
       "    <tr>\n",
       "      <th>26</th>\n",
       "      <td>特朗普</td>\n",
       "      <td>48.0</td>\n",
       "      <td>英国</td>\n",
       "      <td>83.0</td>\n",
       "    </tr>\n",
       "    <tr>\n",
       "      <th>27</th>\n",
       "      <td>隔离</td>\n",
       "      <td>47.0</td>\n",
       "      <td>工作</td>\n",
       "      <td>78.0</td>\n",
       "    </tr>\n",
       "    <tr>\n",
       "      <th>28</th>\n",
       "      <td>发布</td>\n",
       "      <td>46.0</td>\n",
       "      <td>特朗普</td>\n",
       "      <td>77.0</td>\n",
       "    </tr>\n",
       "    <tr>\n",
       "      <th>29</th>\n",
       "      <td>丁香</td>\n",
       "      <td>46.0</td>\n",
       "      <td>希望</td>\n",
       "      <td>74.0</td>\n",
       "    </tr>\n",
       "    <tr>\n",
       "      <th>30</th>\n",
       "      <td>人民</td>\n",
       "      <td>45.0</td>\n",
       "      <td>报告</td>\n",
       "      <td>72.0</td>\n",
       "    </tr>\n",
       "    <tr>\n",
       "      <th>31</th>\n",
       "      <td>累计</td>\n",
       "      <td>45.0</td>\n",
       "      <td>抗疫</td>\n",
       "      <td>71.0</td>\n",
       "    </tr>\n",
       "    <tr>\n",
       "      <th>32</th>\n",
       "      <td>传播</td>\n",
       "      <td>45.0</td>\n",
       "      <td>阳性</td>\n",
       "      <td>70.0</td>\n",
       "    </tr>\n",
       "    <tr>\n",
       "      <th>33</th>\n",
       "      <td>北京</td>\n",
       "      <td>44.0</td>\n",
       "      <td>出院</td>\n",
       "      <td>66.0</td>\n",
       "    </tr>\n",
       "    <tr>\n",
       "      <th>34</th>\n",
       "      <td>口罩</td>\n",
       "      <td>44.0</td>\n",
       "      <td>情况</td>\n",
       "      <td>65.0</td>\n",
       "    </tr>\n",
       "    <tr>\n",
       "      <th>35</th>\n",
       "      <td>湖北</td>\n",
       "      <td>43.0</td>\n",
       "      <td>措施</td>\n",
       "      <td>65.0</td>\n",
       "    </tr>\n",
       "    <tr>\n",
       "      <th>36</th>\n",
       "      <td>人员</td>\n",
       "      <td>41.0</td>\n",
       "      <td>日本</td>\n",
       "      <td>65.0</td>\n",
       "    </tr>\n",
       "    <tr>\n",
       "      <th>37</th>\n",
       "      <td>治疗</td>\n",
       "      <td>39.0</td>\n",
       "      <td>新型</td>\n",
       "      <td>64.0</td>\n",
       "    </tr>\n",
       "    <tr>\n",
       "      <th>38</th>\n",
       "      <td>情况</td>\n",
       "      <td>39.0</td>\n",
       "      <td>传播</td>\n",
       "      <td>63.0</td>\n",
       "    </tr>\n",
       "    <tr>\n",
       "      <th>39</th>\n",
       "      <td>世界</td>\n",
       "      <td>37.0</td>\n",
       "      <td>发布</td>\n",
       "      <td>62.0</td>\n",
       "    </tr>\n",
       "    <tr>\n",
       "      <th>40</th>\n",
       "      <td>人数</td>\n",
       "      <td>35.0</td>\n",
       "      <td>意大利</td>\n",
       "      <td>62.0</td>\n",
       "    </tr>\n",
       "    <tr>\n",
       "      <th>41</th>\n",
       "      <td>专家</td>\n",
       "      <td>34.0</td>\n",
       "      <td>治疗</td>\n",
       "      <td>62.0</td>\n",
       "    </tr>\n",
       "    <tr>\n",
       "      <th>42</th>\n",
       "      <td>健康</td>\n",
       "      <td>34.0</td>\n",
       "      <td>北京</td>\n",
       "      <td>59.0</td>\n",
       "    </tr>\n",
       "    <tr>\n",
       "      <th>43</th>\n",
       "      <td>影响</td>\n",
       "      <td>33.0</td>\n",
       "      <td>健康</td>\n",
       "      <td>58.0</td>\n",
       "    </tr>\n",
       "    <tr>\n",
       "      <th>44</th>\n",
       "      <td>动态</td>\n",
       "      <td>33.0</td>\n",
       "      <td>超过</td>\n",
       "      <td>58.0</td>\n",
       "    </tr>\n",
       "    <tr>\n",
       "      <th>45</th>\n",
       "      <td>组织</td>\n",
       "      <td>33.0</td>\n",
       "      <td>疫情防控</td>\n",
       "      <td>57.0</td>\n",
       "    </tr>\n",
       "    <tr>\n",
       "      <th>46</th>\n",
       "      <td>分享</td>\n",
       "      <td>32.0</td>\n",
       "      <td>报道</td>\n",
       "      <td>56.0</td>\n",
       "    </tr>\n",
       "    <tr>\n",
       "      <th>47</th>\n",
       "      <td>信息</td>\n",
       "      <td>32.0</td>\n",
       "      <td>哀悼</td>\n",
       "      <td>54.0</td>\n",
       "    </tr>\n",
       "    <tr>\n",
       "      <th>48</th>\n",
       "      <td>出院</td>\n",
       "      <td>32.0</td>\n",
       "      <td>治愈</td>\n",
       "      <td>54.0</td>\n",
       "    </tr>\n",
       "    <tr>\n",
       "      <th>49</th>\n",
       "      <td>新型</td>\n",
       "      <td>32.0</td>\n",
       "      <td>医生</td>\n",
       "      <td>54.0</td>\n",
       "    </tr>\n",
       "  </tbody>\n",
       "</table>\n",
       "</div>"
      ],
      "text/plain": [
       "   普通用户_高频词  普通用户_词频 认证个人_高频词  认证个人_词频\n",
       "0        中国    206.0       美国    405.0\n",
       "1        确诊    178.0       中国    278.0\n",
       "2        美国    161.0       确诊    237.0\n",
       "3        武汉    154.0       感染    180.0\n",
       "4        病例    124.0     确诊病例    166.0\n",
       "5        全国    122.0       病毒    159.0\n",
       "6        抗击    120.0       武汉    140.0\n",
       "7        新增    104.0       全球    138.0\n",
       "8        患者    104.0       抗击    128.0\n",
       "9        加油     98.0       患者    124.0\n",
       "10       感染     95.0       检测    120.0\n",
       "11     确诊病例     88.0       新增    120.0\n",
       "12       病毒     87.0       病例    119.0\n",
       "13       医院     81.0       医院    116.0\n",
       "14       工作     77.0       时间    114.0\n",
       "15       检测     65.0       国家    111.0\n",
       "16       希望     64.0       全国    109.0\n",
       "17       医生     64.0       加油     95.0\n",
       "18       国家     63.0       影响     93.0\n",
       "19       全球     62.0       世界     93.0\n",
       "20       新闻     56.0       死亡     92.0\n",
       "21      意大利     55.0       累计     90.0\n",
       "22       死亡     55.0       口罩     87.0\n",
       "23     疫情防控     54.0       超话     86.0\n",
       "24       超过     53.0       隔离     85.0\n",
       "25       时间     53.0       人员     85.0\n",
       "26      特朗普     48.0       英国     83.0\n",
       "27       隔离     47.0       工作     78.0\n",
       "28       发布     46.0      特朗普     77.0\n",
       "29       丁香     46.0       希望     74.0\n",
       "30       人民     45.0       报告     72.0\n",
       "31       累计     45.0       抗疫     71.0\n",
       "32       传播     45.0       阳性     70.0\n",
       "33       北京     44.0       出院     66.0\n",
       "34       口罩     44.0       情况     65.0\n",
       "35       湖北     43.0       措施     65.0\n",
       "36       人员     41.0       日本     65.0\n",
       "37       治疗     39.0       新型     64.0\n",
       "38       情况     39.0       传播     63.0\n",
       "39       世界     37.0       发布     62.0\n",
       "40       人数     35.0      意大利     62.0\n",
       "41       专家     34.0       治疗     62.0\n",
       "42       健康     34.0       北京     59.0\n",
       "43       影响     33.0       健康     58.0\n",
       "44       动态     33.0       超过     58.0\n",
       "45       组织     33.0     疫情防控     57.0\n",
       "46       分享     32.0       报道     56.0\n",
       "47       信息     32.0       哀悼     54.0\n",
       "48       出院     32.0       治愈     54.0\n",
       "49       新型     32.0       医生     54.0"
      ]
     },
     "execution_count": 37,
     "metadata": {},
     "output_type": "execute_result"
    }
   ],
   "source": [
    "# 对比两类用户群体发布微博中的前50个高频词\n",
    "common_user_freq_50 = pd.read_csv(\"./common_user_freq.txt\", header=None, index_col=None, sep=\",\", \n",
    "                                  dtype={0: str, 1: np.float64})\n",
    "\n",
    "common_user_freq_50.rename(columns={0: \"普通用户_高频词\", 1: \"普通用户_词频\"}, inplace=True)\n",
    "# common_user_freq_50.head(50)\n",
    "\n",
    "elite_user_freq_50 = pd.read_csv(\"./elite_user_freq.txt\", header=None, index_col=None, sep=\",\", \n",
    "                                 dtype={0: str, 1: np.float64})\n",
    "\n",
    "elite_user_freq_50.rename(columns={0: \"认证个人_高频词\", 1: \"认证个人_词频\"}, inplace=True)\n",
    "# elite_user_freq_50.head(50)\n",
    "\n",
    "two_groups_freq_50 = pd.concat([common_user_freq_50, elite_user_freq_50], axis=1)\n",
    "two_groups_freq_50.head(50)"
   ]
  },
  {
   "cell_type": "code",
   "execution_count": 38,
   "id": "86914f16",
   "metadata": {},
   "outputs": [
    {
     "name": "stdout",
     "output_type": "stream",
     "text": [
      "100\n"
     ]
    }
   ],
   "source": [
    "# 建构语义矩阵（一般保留 top 75/100）\n",
    "# 需要注意如何设定 moving window\n",
    "# 需要注意是否包含特定词汇（如：检索词）\n",
    "# 先针对普通用户进行分析\n",
    "common_user_freq_100 = list()\n",
    "common_user_freq = pd.read_csv(\"./common_user_freq.txt\", header=None, index_col=None, sep=\",\", \n",
    "                               dtype={0: str, 1: np.float64})\n",
    "common_user_freq.rename(columns={0: \"词语\", 1: \"词频\"}, inplace=True)\n",
    "for word in common_user_freq[\"词语\"][:100]:\n",
    "    common_user_freq_100.append(word)\n",
    "print(len(common_user_freq_100))"
   ]
  },
  {
   "cell_type": "code",
   "execution_count": 39,
   "id": "7d1b00cb",
   "metadata": {},
   "outputs": [],
   "source": [
    "# edges 用来存储网络中的 dyads\n",
    "edges = defaultdict(int)\n",
    "# 对数据框中的分词结果进行遍历\n",
    "for content in common_user[\"words\"]:\n",
    "    # 确认目标行的分词结果中是否存在高频词共现，这里使用了非常便捷的求交集方法\n",
    "    overlap = set(content.strip().split()) & set(common_user_freq_100)\n",
    "    if len(overlap) >= 2:\n",
    "        idx = 0\n",
    "        while idx <= len(content.strip().split()):\n",
    "            # 设定 moving window size = 5\n",
    "            # 实现 moving window 的效果\n",
    "            result = list(set(content.strip().split()[idx: idx + 5]) & overlap)\n",
    "            # 确认我们的 window 中存在高频词共现\n",
    "            if len(result) >= 2:\n",
    "                # 不考虑 dyads 中词语的先后顺序\n",
    "                result.sort()\n",
    "                for pair in combinations(result, 2):\n",
    "                    # 规避 dyads 的重复统计\n",
    "                    if content.strip().split()[idx: idx + 5][0] in pair:\n",
    "                        edges[pair] += 1\n",
    "            idx += 1\n",
    "\n",
    "with open(\"./common_user_matrix.csv\", \"w\", encoding=\"utf-8\") as t:\n",
    "    # 加入 header 以适应网络可视化工具的分析要求\n",
    "    t.write(\"source, target, weight\" + \"\\n\")\n",
    "    for dyad, weight in sorted(dict(edges).items(), key=lambda x: x[1], reverse=True):\n",
    "        t.write(dyad[0] + \",\" + dyad[1] + \",\" + str(weight) + \"\\n\")"
   ]
  },
  {
   "cell_type": "code",
   "execution_count": 40,
   "id": "08648a1f",
   "metadata": {},
   "outputs": [
    {
     "name": "stdout",
     "output_type": "stream",
     "text": [
      "100\n"
     ]
    }
   ],
   "source": [
    "# 同理，建构认证个人发布微博的语义矩阵\n",
    "elite_user_freq_100 = list()\n",
    "elite_user_freq = pd.read_csv(\"./elite_user_freq.txt\", header=None, index_col=None, sep=\",\", \n",
    "                              dtype={0: str, 1: np.float64})\n",
    "elite_user_freq.rename(columns={0: \"词语\", 1: \"词频\"}, inplace=True)\n",
    "for word in elite_user_freq[\"词语\"][:100]:\n",
    "    elite_user_freq_100.append(word)\n",
    "print(len(elite_user_freq_100))"
   ]
  },
  {
   "cell_type": "code",
   "execution_count": 41,
   "id": "28ab9916",
   "metadata": {},
   "outputs": [],
   "source": [
    "edges = defaultdict(int)\n",
    "for content in elite_user[\"words\"]:\n",
    "    overlap = set(content.strip().split()) & set(elite_user_freq_100)\n",
    "    if len(overlap) >= 2:\n",
    "        idx = 0\n",
    "        while idx <= len(content.strip().split()):\n",
    "            result = list(set(content.strip().split()[idx: idx + 5]) & overlap)\n",
    "            if len(result) >= 2:\n",
    "                result.sort()\n",
    "                for pair in combinations(result, 2):\n",
    "                    if content.strip().split()[idx: idx + 5][0] in pair:\n",
    "                        edges[pair] += 1\n",
    "            idx += 1\n",
    "\n",
    "with open(\"./elite_user_matrix.csv\", \"w\", encoding=\"utf-8\") as t:\n",
    "    t.write(\"source, target, weight\" + \"\\n\")\n",
    "    for dyad, weight in sorted(dict(edges).items(), key=lambda x: x[1], reverse=True):\n",
    "        t.write(dyad[0] + \",\" + dyad[1] + \",\" + str(weight) + \"\\n\")"
   ]
  },
  {
   "cell_type": "markdown",
   "id": "4481005d",
   "metadata": {},
   "source": [
    "# 5⃣️ 接下来的步骤，交给网络可视化工具，以及你的意义解读能力"
   ]
  },
  {
   "cell_type": "markdown",
   "id": "996eee1b",
   "metadata": {},
   "source": [
    "- 推荐的网络可视化工具\n",
    "\n",
    "    [Gephi](https://gephi.org/)    \n",
    "    [Cytoscape](https://cytoscape.org/)\n",
    "\n",
    "\n",
    "\n",
    "- 可视化工具的详细操作方法请求助 YouTube / Bilibili"
   ]
  },
  {
   "cell_type": "markdown",
   "id": "e59db9f5",
   "metadata": {},
   "source": [
    "# 6⃣️ 开放讨论：\n",
    "- 有何收获／意见？\n",
    "\n",
    "\n",
    "- 分析流程有哪些可优化之处？"
   ]
  },
  {
   "cell_type": "markdown",
   "id": "2aed85d5",
   "metadata": {},
   "source": [
    "# 😜 下一次分享（4 月 1 日同一时段）我们将一起探索\n",
    "\n",
    "- 无监督机器学习（LDA 真的很简单吗？    P.S. 使用本次的分析语料）\n",
    "\n",
    "\n",
    "- 无监督机器学习（如何对主题模型进行假设检验？基于 R 语言的结构主题模型    P.S. 使用本次的分析语料）\n",
    "    - 🚩 请提前安装好 R & RStudio\n",
    "\n",
    "\n",
    "- 有监督机器学习（手把手搭建一个文本分类器    P.S. 使用另外一份开源语料）\n",
    "\n",
    "\n",
    "- 建立在文本挖掘结果上的时序因果关系识别（基于 Stata 的格兰杰因果检验    P.S. 使用本次分析语料母体的二次提炼结果）\n",
    "    - 🚩 请提前安装好 Stata，后三次分享也会用到"
   ]
  }
 ],
 "metadata": {
  "kernelspec": {
   "display_name": "Python 3",
   "language": "python",
   "name": "python3"
  },
  "language_info": {
   "codemirror_mode": {
    "name": "ipython",
    "version": 3
   },
   "file_extension": ".py",
   "mimetype": "text/x-python",
   "name": "python",
   "nbconvert_exporter": "python",
   "pygments_lexer": "ipython3",
   "version": "3.8.8"
  }
 },
 "nbformat": 4,
 "nbformat_minor": 5
}
